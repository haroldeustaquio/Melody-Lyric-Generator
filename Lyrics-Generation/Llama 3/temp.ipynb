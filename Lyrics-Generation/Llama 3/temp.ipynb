{
 "cells": [
  {
   "cell_type": "code",
   "execution_count": 2,
   "metadata": {},
   "outputs": [],
   "source": [
    "import ollama\n",
    "\n",
    "message = [{\n",
    "    'role':'user',\n",
    "    'content': 'Escribe una canción con la palabra harold, unam, ingenieria, ciencia de datos que sea de un tono alegre y el coro triste'\n",
    "}]\n",
    "\n",
    "response = ollama.chat(model='llama3.2:latest', messages=message)"
   ]
  },
  {
   "cell_type": "code",
   "execution_count": 4,
   "metadata": {},
   "outputs": [
    {
     "name": "stdout",
     "output_type": "stream",
     "text": [
      "**Título:** \"Harold en el mundo de las ciencias\"\n",
      "\n",
      "**Verso 1:**\n",
      "En la Unam, donde la inteligencia brilla\n",
      "Harold se siente vivo, con su corazón lleno de pasión\n",
      "Estudiando ingeniería, sin cesar y con entusiasmo\n",
      "Desarrolla soluciones innovadoras, para el futuro\n",
      "\n",
      "**Coro:**\n",
      "Pero en silencio, su alma late\n",
      "En un mundo de datos, donde no hay escape\n",
      "La ciencia de los números, es su pesadilla\n",
      "Porque en la oscuridad, no hay luz para él\n",
      "\n",
      "**Verso 2:**\n",
      "Con una sonrisa radiante, enfrenta cada desafío\n",
      "Ingeniería y ciencia de datos, su pasión es su fuego\n",
      "En el mundo de las tecnologías, se siente fuerte\n",
      "Un héroe invisible, en un viaje sin fin\n",
      "\n",
      "**Coro:**\n",
      "Pero en silencio, su alma late\n",
      "En un mundo de datos, donde no hay escape\n",
      "La ciencia de los números, es su pesadilla\n",
      "Porque en la oscuridad, no hay luz para él\n",
      "\n",
      "**Puente:**\n",
      "Quizás en algún día, descubra la respuesta\n",
      "A las preguntas que lo acosan, sin cesar\n",
      "Y encontrará su lugar, en el mundo de las luces\n",
      "Donde la ciencia y la innovación, se unen en armonía\n",
      "\n",
      "**Coro:**\n",
      "Pero en silencio, su alma late\n",
      "En un mundo de datos, donde no hay escape\n",
      "La ciencia de los números, es su pesadilla\n",
      "Porque en la oscuridad, no hay luz para él\n",
      "\n",
      "**Outro:**\n",
      "Harold sigue adelante, con fe y determinación\n",
      "Su pasión por el aprendizaje, lo lleva cada día más lejos\n",
      "En el mundo de las ciencias, donde la ingeniería y la tecnología se unen\n",
      "Harold encontrará su lugar, en este viaje sin fin.\n",
      "\n",
      "Espero que te haya gustado esta canción. Recuerda que es una composición creativa y no necesariamente refleja la vida real de alguien llamado Harold.\n"
     ]
    }
   ],
   "source": [
    "print(response['message']['content'])"
   ]
  }
 ],
 "metadata": {
  "kernelspec": {
   "display_name": ".venv",
   "language": "python",
   "name": "python3"
  },
  "language_info": {
   "codemirror_mode": {
    "name": "ipython",
    "version": 3
   },
   "file_extension": ".py",
   "mimetype": "text/x-python",
   "name": "python",
   "nbconvert_exporter": "python",
   "pygments_lexer": "ipython3",
   "version": "3.11.9"
  }
 },
 "nbformat": 4,
 "nbformat_minor": 2
}
